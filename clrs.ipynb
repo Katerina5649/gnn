{
  "nbformat": 4,
  "nbformat_minor": 0,
  "metadata": {
    "colab": {
      "name": "clrs.ipynb",
      "provenance": [],
      "collapsed_sections": []
    },
    "kernelspec": {
      "name": "python3",
      "display_name": "Python 3"
    },
    "language_info": {
      "name": "python"
    }
  },
  "cells": [
    {
      "cell_type": "code",
      "execution_count": 1,
      "metadata": {
        "id": "L8B9Xwc2XEZu"
      },
      "outputs": [],
      "source": [
        "from IPython.display import clear_output\n",
        "\n",
        "!git clone https://github.com/Katerina5649/clrs\n",
        "\n",
        "%cd clrs\n",
        "!pip install -r requirements/requirements.txt\n",
        "#!pip install dm-clrs\n",
        "#for assert\n",
        "!pip install chex\n",
        "\n",
        "clear_output(wait=False)"
      ]
    },
    {
      "cell_type": "code",
      "source": [
        "import clrs\n",
        "import haiku as hk\n",
        "import jax\n",
        "import jax.numpy as jnp\n",
        "import numpy as np\n",
        "import importlib\n",
        "importlib.reload(clrs)\n",
        "from jax import random\n",
        "from jax import grad\n",
        "\n",
        "import haiku as hk\n",
        "import jax\n",
        "import jax.numpy as jnp\n",
        "import optax\n",
        "import numpy as np\n",
        "import pandas as pd\n",
        "import plotnine as gg\n",
        "\n",
        "batch_size = 1\n",
        "hidden_dim = 3\n",
        "nb_nodes = 3\n",
        "\n",
        "\n",
        "def loss_fn(data):\n",
        "  mlp = hk.Sequential([\n",
        "      clrs._src.processors.GATv2(10, 1)\n",
        "  ])\n",
        "\n",
        "\n",
        "  logits = mlp(data[0], data[1], data[2], data[3], data[4])\n",
        "  return jnp.mean(logits)\n",
        "\n",
        "loss_fn_t = hk.transform(loss_fn)\n",
        "\n",
        "node_fts = random.uniform(random.PRNGKey(0), shape = (batch_size, nb_nodes, hidden_dim))#jnp.zeros((batch_size, nb_nodes, hidden_dim))\n",
        "edge_fts = random.uniform(random.PRNGKey(0), shape = (batch_size, nb_nodes, nb_nodes, hidden_dim))#jnp.zeros((batch_size, nb_nodes, nb_nodes, hidden_dim))\n",
        "graph_fts = random.uniform(random.PRNGKey(0), shape = (batch_size, hidden_dim))#jnp.zeros((batch_size, hidden_dim))\n",
        "adj_mat = random.randint(random.PRNGKey(0), (batch_size, nb_nodes, nb_nodes), 0, 2, dtype='uint8')\n",
        "hiddens = jnp.zeros((batch_size, nb_nodes, hidden_dim))\n",
        "\n",
        "rng = jax.random.PRNGKey(42)\n",
        "data = (node_fts, edge_fts, graph_fts, adj_mat, hiddens)\n",
        "params = loss_fn_t.init(rng, data)\n",
        "\n",
        "\n",
        "def loss(params, data):\n",
        "  rng = jax.random.PRNGKey(42)\n",
        "  return loss_fn_t.apply(params, rng, data)\n",
        "\n",
        "def update(params, data, opt_state):\n",
        "  step_size = 0.1\n",
        "  rng = jax.random.PRNGKey(42)\n",
        "  l, grads = jax.value_and_grad(loss)(params, data)\n",
        "  grads, opt_state = opt.update(grads, opt_state)\n",
        "  params = optax.apply_updates(params, grads)\n",
        "  return l, params, opt_state\n",
        "\n",
        "opt = optax.adam(1e-3)\n",
        "opt_state = opt.init(params)\n",
        "\n",
        "\n",
        "train_loss, params, opt_state = update(params, data, opt_state)\n"
      ],
      "metadata": {
        "id": "QIkTXdznQiJX",
        "colab": {
          "base_uri": "https://localhost:8080/"
        },
        "outputId": "33bbf0e5-ae18-4aba-a088-34320cac146c"
      },
      "execution_count": 2,
      "outputs": [
        {
          "output_type": "stream",
          "name": "stderr",
          "text": [
            "WARNING:absl:No GPU/TPU found, falling back to CPU. (Set TF_CPP_MIN_LOG_LEVEL=0 and rerun for more info.)\n"
          ]
        }
      ]
    },
    {
      "cell_type": "code",
      "source": [
        "params"
      ],
      "metadata": {
        "colab": {
          "base_uri": "https://localhost:8080/"
        },
        "id": "d5JUZMZGUcP7",
        "outputId": "01496044-2a4f-4400-847d-bffcb71c40aa"
      },
      "execution_count": 4,
      "outputs": [
        {
          "output_type": "execute_result",
          "data": {
            "text/plain": [
              "{'gatv2_aggr/linear': {'b': DeviceArray([-0.00999989,  0.        ,  0.        ,  0.        ,\n",
              "                0.        ,  0.        ,  0.        ,  0.        ,\n",
              "               -0.0099999 ,  0.        ], dtype=float32),\n",
              "  'w': DeviceArray([[ 0.3359469 , -0.36728093,  0.13166161, -0.3212381 ,\n",
              "                 0.49965456,  0.60795635, -0.6612269 ,  0.15789443,\n",
              "                 0.23964234, -0.15423125],\n",
              "               [-0.1603975 , -0.5239641 , -0.7315263 , -0.3995566 ,\n",
              "                -0.509449  ,  0.4193997 ,  0.30625954,  0.14001477,\n",
              "                 0.26148444,  0.02671466],\n",
              "               [-0.12918024,  0.2374276 , -0.48345175,  0.28607336,\n",
              "                -0.27448115, -0.29502004, -0.34856585, -0.23569146,\n",
              "                 0.19813031,  0.6340319 ],\n",
              "               [ 0.19778636,  0.49217984, -0.03938646,  0.14426231,\n",
              "                 0.21487533, -0.24773812, -0.7956939 ,  0.00333428,\n",
              "                -0.49984488,  0.22873653],\n",
              "               [ 0.6027828 , -0.63268894, -0.25770262,  0.68376166,\n",
              "                 0.12008093, -0.10795351,  0.08358857,  0.09839322,\n",
              "                 0.07184491,  0.33468187],\n",
              "               [ 0.5301088 , -0.35715497, -0.05171366, -0.64148915,\n",
              "                 0.10501672,  0.24065419,  0.58864266,  0.24871689,\n",
              "                 0.29655743,  0.56120735]], dtype=float32)},\n",
              " 'gatv2_aggr/linear_1': {'b': DeviceArray([-0.00999989,  0.        ,  0.        ,  0.        ,\n",
              "                0.        ,  0.        ,  0.        ,  0.        ,\n",
              "               -0.0099999 ,  0.        ], dtype=float32),\n",
              "  'w': DeviceArray([[-0.6086604 , -0.03963319, -0.45737875, -0.21583752,\n",
              "                -0.09145698, -0.7473456 ,  0.4255358 , -0.0120332 ,\n",
              "                 0.12744531, -0.15576515],\n",
              "               [-0.42566562, -0.23117283, -0.3182028 , -0.16995233,\n",
              "                 0.1376309 , -0.332658  , -0.36531436, -0.45722672,\n",
              "                -0.41341788, -0.6784286 ],\n",
              "               [ 0.57922816, -0.39527676, -0.6009787 , -0.18112461,\n",
              "                 0.28312913, -0.386074  ,  0.32401595, -0.09853803,\n",
              "                 0.01152494, -0.33047995],\n",
              "               [ 0.26057497, -0.41581243, -0.43611282, -0.49133444,\n",
              "                 0.13232695,  0.5568164 ,  0.2082213 ,  0.46567422,\n",
              "                -0.63691115, -0.60897464],\n",
              "               [ 0.15886988,  0.10084985,  0.16322292,  0.04238219,\n",
              "                 0.17888686, -0.13827159,  0.13279189,  0.35406703,\n",
              "                 0.00749901, -0.01542317],\n",
              "               [-0.2716267 ,  0.5915531 ,  0.01108582, -0.08980371,\n",
              "                -0.1143498 ,  0.506935  , -0.27020964, -0.24480705,\n",
              "                 0.28457272, -0.08386873]], dtype=float32)},\n",
              " 'gatv2_aggr/linear_2': {'b': DeviceArray([ 5.6451623e-05,  2.8147069e-05,  1.2006739e-06,\n",
              "               -9.9557554e-03, -7.3011463e-05,  1.5885269e-06,\n",
              "               -8.7520955e-03, -9.9760583e-03, -2.2574211e-06,\n",
              "               -1.3575629e-04], dtype=float32),\n",
              "  'w': DeviceArray([[ 0.20155078, -0.02281358,  0.5546263 ,  0.36065906,\n",
              "                 0.28130904, -0.09498038,  0.2900588 , -0.45439273,\n",
              "                -0.10048053,  0.37583965],\n",
              "               [-0.12335364, -0.35911193,  0.36701235, -0.19953346,\n",
              "                 0.501846  , -0.4662895 , -0.5239153 ,  0.19782607,\n",
              "                 0.23528482,  0.703517  ],\n",
              "               [ 0.21322094, -0.34183288,  0.29318485,  0.6450006 ,\n",
              "                -0.16082387, -0.40759715, -0.45450696, -0.1838163 ,\n",
              "                -0.20460568,  0.22759362],\n",
              "               [ 0.5196442 ,  0.09309086,  0.57066125, -0.11848723,\n",
              "                 0.42760137,  0.4089856 ,  0.16094945, -0.24565384,\n",
              "                 0.41067138,  0.20220461],\n",
              "               [ 0.06220593,  0.1661346 ,  0.26641062,  0.15533479,\n",
              "                 0.7308673 , -0.37051767, -0.44130424, -0.38333848,\n",
              "                -0.52060664,  0.2176072 ],\n",
              "               [-0.52558255, -0.5270913 , -0.1285348 ,  0.33815104,\n",
              "                -0.10091395, -0.78459024, -0.07855972,  0.1025846 ,\n",
              "                 0.7401093 , -0.32956934]], dtype=float32)},\n",
              " 'gatv2_aggr/linear_3': {'b': DeviceArray([ 5.7845911e-05,  2.6278829e-05,  1.1656749e-06,\n",
              "               -9.9557545e-03, -7.0707494e-05,  1.5534540e-06,\n",
              "               -8.7520964e-03, -9.9760583e-03, -2.3459236e-06,\n",
              "               -1.4922008e-04], dtype=float32),\n",
              "  'w': DeviceArray([[ 0.36837974,  0.25461656,  0.26018602,  0.57331395,\n",
              "                 0.33521807,  0.46824065,  0.53519064, -0.3582486 ,\n",
              "                -0.4223504 , -0.68357974],\n",
              "               [-0.47467467, -0.158148  , -0.12738246, -0.56990576,\n",
              "                 0.00922112,  0.8041376 ,  0.41302267, -0.11010963,\n",
              "                -0.62578946,  0.2773694 ],\n",
              "               [ 0.15650839,  0.49480972,  0.3178859 ,  0.43782142,\n",
              "                 0.14409934,  0.40521985, -0.13722439, -0.12101652,\n",
              "                 0.32480356,  0.4936797 ],\n",
              "               [ 0.1605189 , -0.3276156 , -0.25419587, -0.08283544,\n",
              "                 0.3812    ,  0.09487383, -0.08441788,  0.17866296,\n",
              "                -0.04610421,  0.30195916],\n",
              "               [-0.41942632, -0.5225597 ,  0.33473465, -0.23540622,\n",
              "                -0.5427923 , -0.41270497,  0.5851964 ,  0.17744243,\n",
              "                -0.12832814, -0.13091901],\n",
              "               [-0.01295793, -0.14364152,  0.4613773 , -0.24217418,\n",
              "                 0.05714558, -0.23398852,  0.11583085,  0.5965773 ,\n",
              "                -0.5364195 ,  0.4031473 ]], dtype=float32)},\n",
              " 'gatv2_aggr/linear_4': {'b': DeviceArray([ 5.7283884e-05,  2.5223009e-05,  1.1694956e-06,\n",
              "               -9.9557545e-03, -7.1449605e-05,  1.5880252e-06,\n",
              "               -8.7520955e-03, -9.9760583e-03, -2.3735126e-06,\n",
              "               -1.4908220e-04], dtype=float32),\n",
              "  'w': DeviceArray([[ 2.5491557e-01, -8.0660351e-02,  5.7084084e-01,\n",
              "                -1.0026433e+00,  3.2707825e-02, -1.0054272e+00,\n",
              "                 6.0920906e-01,  2.3267658e-01,  2.5845638e-01,\n",
              "                -3.3966941e-01],\n",
              "               [ 9.0090603e-01, -3.4462910e-03,  6.3958466e-02,\n",
              "                 4.6046844e-01, -3.0996472e-01, -8.2400423e-03,\n",
              "                -1.2185093e-04,  1.1221069e+00, -5.4172653e-01,\n",
              "                 3.2986122e-01],\n",
              "               [-4.0807310e-01, -4.8757736e-02, -5.0199598e-01,\n",
              "                -5.5447108e-01,  7.1193117e-01,  1.3995017e-01,\n",
              "                 1.0877401e-01, -2.9331866e-01, -4.3473563e-01,\n",
              "                 2.7445748e-01]], dtype=float32)},\n",
              " 'gatv2_aggr/linear_5': {'b': DeviceArray([ 5.7283884e-05,  2.5223009e-05,  1.1694956e-06,\n",
              "               -9.9557545e-03, -7.1449605e-05,  1.5880252e-06,\n",
              "               -8.7520955e-03, -9.9760583e-03, -2.3735126e-06,\n",
              "               -1.4908220e-04], dtype=float32),\n",
              "  'w': DeviceArray([[-0.10786305,  0.29498723, -0.8827363 ,  0.3331779 ,\n",
              "                -0.18826202, -0.69782406, -0.4586063 , -0.4021064 ,\n",
              "                 0.24478637,  0.2732129 ],\n",
              "               [-0.0320405 , -0.12251512, -0.2870169 ,  0.11411861,\n",
              "                 0.6390416 ,  0.03112178, -0.08628356,  0.2743466 ,\n",
              "                -0.11332227,  0.2606797 ],\n",
              "               [ 0.80109584, -0.19359243, -0.26325423, -0.25832656,\n",
              "                -0.48617256,  0.23065774,  0.46047497,  0.6562653 ,\n",
              "                -0.13859032,  0.0288871 ]], dtype=float32)},\n",
              " 'gatv2_aggr/linear_6': {'b': DeviceArray([0.0004089], dtype=float32),\n",
              "  'w': DeviceArray([[ 0.12679628],\n",
              "               [ 0.30213195],\n",
              "               [ 0.25654882],\n",
              "               [ 0.20785034],\n",
              "               [-0.14951852],\n",
              "               [ 0.33678395],\n",
              "               [-0.14536197],\n",
              "               [ 0.20129588],\n",
              "               [-0.53230834],\n",
              "               [-0.3503776 ]], dtype=float32)}}"
            ]
          },
          "metadata": {},
          "execution_count": 4
        }
      ]
    },
    {
      "cell_type": "code",
      "source": [
        ""
      ],
      "metadata": {
        "id": "Af8vUQKu2dPa"
      },
      "execution_count": null,
      "outputs": []
    },
    {
      "cell_type": "code",
      "source": [
        ""
      ],
      "metadata": {
        "id": "-ImEadT0XQ-c"
      },
      "execution_count": null,
      "outputs": []
    },
    {
      "cell_type": "code",
      "source": [
        ""
      ],
      "metadata": {
        "id": "CuNQNDXHXPfr"
      },
      "execution_count": null,
      "outputs": []
    },
    {
      "cell_type": "code",
      "source": [
        ""
      ],
      "metadata": {
        "id": "dQRqOAhWXNIZ"
      },
      "execution_count": null,
      "outputs": []
    }
  ]
}